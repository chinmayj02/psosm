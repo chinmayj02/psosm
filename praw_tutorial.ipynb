{
 "cells": [
  {
   "cell_type": "code",
   "execution_count": 2,
   "id": "a4995832",
   "metadata": {},
   "outputs": [],
   "source": [
    "import praw"
   ]
  },
  {
   "cell_type": "code",
   "execution_count": 3,
   "id": "0bc21315",
   "metadata": {},
   "outputs": [],
   "source": [
    "import pandas as pd"
   ]
  },
  {
   "cell_type": "code",
   "execution_count": 9,
   "id": "e15ad738",
   "metadata": {},
   "outputs": [],
   "source": [
    "reddit=praw.Reddit(client_id=\"lc-0LWDEHhO5p8aVIiySXw\",\tclient_secret=\"ETyjJY83KtQ2dxJ-5T36VuqPZLCufg\",user_agent=\"analytics\",username=\"giant_predator198\")"
   ]
  },
  {
   "cell_type": "code",
   "execution_count": 33,
   "id": "f47840aa",
   "metadata": {},
   "outputs": [],
   "source": [
    "dankMemes=reddit.subreddit(\"IndianDankMemes\")\n",
    "dankPosts=dankMemes.hot(limit=100)"
   ]
  },
  {
   "cell_type": "code",
   "execution_count": 49,
   "id": "94bb0857",
   "metadata": {},
   "outputs": [],
   "source": [
    "# dict ={ \"title\": [],\n",
    "#             \"subreddit\": [],\n",
    "#             \"score\": [],\n",
    "#             \"id\":[],\n",
    "#             \"url\":[],\n",
    "#             \"comms_num\":[],\n",
    "#             \"created\":[],\n",
    "#             \"body\": [] }\n"
   ]
  },
  {
   "cell_type": "code",
   "execution_count": 50,
   "id": "64a8f615",
   "metadata": {},
   "outputs": [],
   "source": [
    "# for submission in dankPosts:\n",
    "#     dict[\"title\"].append(submission.title)\n",
    "#     dict[\"subreddit\"].append(submission.subreddit)\n",
    "#     dict [\"score\"].append (submission.score)\n",
    "#     dict[\"id\"].append(submission.id)\n",
    "#     dict[\"url\"].append(submission.url)\n",
    "#     dict[\"comms_num\"].append(submission.num_comments)\n",
    "#     dict[\"created\"].append(submission.created)\n",
    "#     dict [\"body\"] .append(submission.selftext)"
   ]
  },
  {
   "cell_type": "code",
   "execution_count": 51,
   "id": "d15a8e63",
   "metadata": {},
   "outputs": [],
   "source": [
    "# df=pd.DataFrame(dict)"
   ]
  },
  {
   "cell_type": "code",
   "execution_count": 52,
   "id": "c0c1e028",
   "metadata": {},
   "outputs": [],
   "source": [
    "# df.head()\n"
   ]
  },
  {
   "cell_type": "code",
   "execution_count": 53,
   "id": "b9fb1f6a",
   "metadata": {},
   "outputs": [],
   "source": [
    "all_reddit=reddit.subreddit(\"all\")"
   ]
  },
  {
   "cell_type": "code",
   "execution_count": 54,
   "id": "ec53e1a1",
   "metadata": {},
   "outputs": [],
   "source": [
    "posts=all_reddit.hot(limit=100)"
   ]
  },
  {
   "cell_type": "code",
   "execution_count": 55,
   "id": "6ad34b08",
   "metadata": {},
   "outputs": [],
   "source": [
    "dict ={ \"title\": [],\n",
    "            \"subreddit\": [],\n",
    "            \"score\": [],\n",
    "            \"id\":[],\n",
    "            \"url\":[],\n",
    "            \"comms_num\":[],\n",
    "            \"created\":[],\n",
    "            \"body\": [] }"
   ]
  },
  {
   "cell_type": "code",
   "execution_count": 61,
   "id": "c09166d0",
   "metadata": {},
   "outputs": [],
   "source": [
    "for submission in posts:\n",
    "    dict[\"title\"].append(submission.title)\n",
    "    dict[\"subreddit\"].append(submission.subreddit)\n",
    "    dict [\"score\"].append (submission.score)\n",
    "    dict[\"id\"].append(submission.id)\n",
    "    dict[\"url\"].append(submission.url)\n",
    "    dict[\"comms_num\"].append(submission.num_comments)\n",
    "    dict[\"created\"].append(submission.created)\n",
    "    dict [\"body\"] .append(submission.selftext)"
   ]
  },
  {
   "cell_type": "code",
   "execution_count": 62,
   "id": "683b85c3",
   "metadata": {},
   "outputs": [],
   "source": [
    "df_all=pd.DataFrame(dict)"
   ]
  },
  {
   "cell_type": "code",
   "execution_count": 63,
   "id": "e711c6bb",
   "metadata": {},
   "outputs": [
    {
     "data": {
      "text/html": [
       "<div>\n",
       "<style scoped>\n",
       "    .dataframe tbody tr th:only-of-type {\n",
       "        vertical-align: middle;\n",
       "    }\n",
       "\n",
       "    .dataframe tbody tr th {\n",
       "        vertical-align: top;\n",
       "    }\n",
       "\n",
       "    .dataframe thead th {\n",
       "        text-align: right;\n",
       "    }\n",
       "</style>\n",
       "<table border=\"1\" class=\"dataframe\">\n",
       "  <thead>\n",
       "    <tr style=\"text-align: right;\">\n",
       "      <th></th>\n",
       "      <th>title</th>\n",
       "      <th>subreddit</th>\n",
       "      <th>score</th>\n",
       "      <th>id</th>\n",
       "      <th>url</th>\n",
       "      <th>comms_num</th>\n",
       "      <th>created</th>\n",
       "      <th>body</th>\n",
       "    </tr>\n",
       "  </thead>\n",
       "  <tbody>\n",
       "    <tr>\n",
       "      <th>0</th>\n",
       "      <td>The \"We're So Blessed\" Starter Pack</td>\n",
       "      <td>starterpacks</td>\n",
       "      <td>9909</td>\n",
       "      <td>10u0a04</td>\n",
       "      <td>https://i.redd.it/b2puw3mamaga1.jpg</td>\n",
       "      <td>671</td>\n",
       "      <td>1.675569e+09</td>\n",
       "      <td></td>\n",
       "    </tr>\n",
       "    <tr>\n",
       "      <th>1</th>\n",
       "      <td>The hole left after my orange sized brain tumo...</td>\n",
       "      <td>pics</td>\n",
       "      <td>6763</td>\n",
       "      <td>10u25wv</td>\n",
       "      <td>https://i.redd.it/dc0ndn33waga1.jpg</td>\n",
       "      <td>534</td>\n",
       "      <td>1.675573e+09</td>\n",
       "      <td></td>\n",
       "    </tr>\n",
       "    <tr>\n",
       "      <th>2</th>\n",
       "      <td>Wtf (source in the comments)</td>\n",
       "      <td>WhitePeopleTwitter</td>\n",
       "      <td>22967</td>\n",
       "      <td>10txfq8</td>\n",
       "      <td>https://i.redd.it/33rn0pymebga1.jpg</td>\n",
       "      <td>2650</td>\n",
       "      <td>1.675561e+09</td>\n",
       "      <td></td>\n",
       "    </tr>\n",
       "    <tr>\n",
       "      <th>3</th>\n",
       "      <td>Saturn through a telescope</td>\n",
       "      <td>space</td>\n",
       "      <td>54311</td>\n",
       "      <td>10tvtrg</td>\n",
       "      <td>https://i.redd.it/c4oe6nsvj9ga1.jpg</td>\n",
       "      <td>815</td>\n",
       "      <td>1.675556e+09</td>\n",
       "      <td></td>\n",
       "    </tr>\n",
       "    <tr>\n",
       "      <th>4</th>\n",
       "      <td>How to explain drag to kids???</td>\n",
       "      <td>clevercomebacks</td>\n",
       "      <td>16459</td>\n",
       "      <td>10txcgn</td>\n",
       "      <td>https://i.redd.it/pg9nwotwdbga1.jpg</td>\n",
       "      <td>423</td>\n",
       "      <td>1.675561e+09</td>\n",
       "      <td></td>\n",
       "    </tr>\n",
       "  </tbody>\n",
       "</table>\n",
       "</div>"
      ],
      "text/plain": [
       "                                               title           subreddit  \\\n",
       "0                The \"We're So Blessed\" Starter Pack        starterpacks   \n",
       "1  The hole left after my orange sized brain tumo...                pics   \n",
       "2                       Wtf (source in the comments)  WhitePeopleTwitter   \n",
       "3                         Saturn through a telescope               space   \n",
       "4                     How to explain drag to kids???     clevercomebacks   \n",
       "\n",
       "   score       id                                  url  comms_num  \\\n",
       "0   9909  10u0a04  https://i.redd.it/b2puw3mamaga1.jpg        671   \n",
       "1   6763  10u25wv  https://i.redd.it/dc0ndn33waga1.jpg        534   \n",
       "2  22967  10txfq8  https://i.redd.it/33rn0pymebga1.jpg       2650   \n",
       "3  54311  10tvtrg  https://i.redd.it/c4oe6nsvj9ga1.jpg        815   \n",
       "4  16459  10txcgn  https://i.redd.it/pg9nwotwdbga1.jpg        423   \n",
       "\n",
       "        created body  \n",
       "0  1.675569e+09       \n",
       "1  1.675573e+09       \n",
       "2  1.675561e+09       \n",
       "3  1.675556e+09       \n",
       "4  1.675561e+09       "
      ]
     },
     "execution_count": 63,
     "metadata": {},
     "output_type": "execute_result"
    }
   ],
   "source": [
    "df_all.head()"
   ]
  },
  {
   "cell_type": "code",
   "execution_count": 65,
   "id": "dbf6900f",
   "metadata": {},
   "outputs": [
    {
     "data": {
      "text/plain": [
       "95"
      ]
     },
     "execution_count": 65,
     "metadata": {},
     "output_type": "execute_result"
    }
   ],
   "source": [
    "len(df_all['subreddit'].unique())"
   ]
  },
  {
   "cell_type": "code",
   "execution_count": 67,
   "id": "ff9fdfcb",
   "metadata": {},
   "outputs": [],
   "source": [
    "df_all.to_csv(\"all_posts.csv\")"
   ]
  },
  {
   "cell_type": "code",
   "execution_count": 68,
   "id": "a57c12f2",
   "metadata": {},
   "outputs": [],
   "source": [
    "df.to_csv(\"dank_posts.csv\")"
   ]
  },
  {
   "cell_type": "code",
   "execution_count": null,
   "id": "769e239c",
   "metadata": {},
   "outputs": [],
   "source": []
  }
 ],
 "metadata": {
  "kernelspec": {
   "display_name": "Python 3 (ipykernel)",
   "language": "python",
   "name": "python3"
  },
  "language_info": {
   "codemirror_mode": {
    "name": "ipython",
    "version": 3
   },
   "file_extension": ".py",
   "mimetype": "text/x-python",
   "name": "python",
   "nbconvert_exporter": "python",
   "pygments_lexer": "ipython3",
   "version": "3.9.13"
  }
 },
 "nbformat": 4,
 "nbformat_minor": 5
}
