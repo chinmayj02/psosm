{
 "cells": [
  {
   "cell_type": "code",
   "execution_count": 3,
   "id": "ed29fb81",
   "metadata": {},
   "outputs": [],
   "source": [
    "import numpy as np \n"
   ]
  },
  {
   "cell_type": "code",
   "execution_count": 4,
   "id": "6ba3e26a",
   "metadata": {},
   "outputs": [],
   "source": [
    "import numpy.matlib \n",
    "\t"
   ]
  },
  {
   "cell_type": "code",
   "execution_count": 5,
   "id": "0dec7312",
   "metadata": {},
   "outputs": [],
   "source": [
    "media = np.arange(12).reshape(2,2,3) \n",
    "social= np.arange(8).reshape(2,2,2) \n",
    "\t"
   ]
  },
  {
   "cell_type": "code",
   "execution_count": 6,
   "id": "3cce0760",
   "metadata": {},
   "outputs": [
    {
     "name": "stdout",
     "output_type": "stream",
     "text": [
      "[[[  3   4   5]\n",
      "  [  9  14  19]]\n",
      "\n",
      " [[ 69  78  87]\n",
      "  [ 99 112 125]]]\n"
     ]
    }
   ],
   "source": [
    "print (np.matmul(social,media))\n"
   ]
  },
  {
   "cell_type": "code",
   "execution_count": 7,
   "id": "79035ebe",
   "metadata": {},
   "outputs": [
    {
     "name": "stdout",
     "output_type": "stream",
     "text": [
      "25\n",
      "48\n"
     ]
    }
   ],
   "source": [
    "online= lambda a : a + 15\n",
    "print(online(10))\n",
    "socialmedia = lambda b, c : b* c\n",
    "print(socialmedia(12, 4))"
   ]
  },
  {
   "cell_type": "code",
   "execution_count": null,
   "id": "c83ba6aa",
   "metadata": {},
   "outputs": [],
   "source": []
  }
 ],
 "metadata": {
  "kernelspec": {
   "display_name": "Python 3 (ipykernel)",
   "language": "python",
   "name": "python3"
  },
  "language_info": {
   "codemirror_mode": {
    "name": "ipython",
    "version": 3
   },
   "file_extension": ".py",
   "mimetype": "text/x-python",
   "name": "python",
   "nbconvert_exporter": "python",
   "pygments_lexer": "ipython3",
   "version": "3.9.13"
  }
 },
 "nbformat": 4,
 "nbformat_minor": 5
}
